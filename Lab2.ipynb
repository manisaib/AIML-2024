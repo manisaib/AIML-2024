{
 "cells": [
  {
   "cell_type": "code",
   "execution_count": 1,
   "id": "2229ec6d-b645-4f3f-9eb3-a81911c18e8d",
   "metadata": {},
   "outputs": [],
   "source": [
    "import numpy as np"
   ]
  },
  {
   "cell_type": "code",
   "execution_count": 2,
   "id": "4e803542-96c8-4d43-a1e4-d4e5b4e4f4b7",
   "metadata": {},
   "outputs": [
    {
     "name": "stdout",
     "output_type": "stream",
     "text": [
      "The adjacent List representing the graph is : \n",
      "{0: [1, 3], 1: [0, 2, 3], 2: [1, 4, 5], 3: [0, 1, 4], 4: [2, 3, 5], 5: [2, 4], 6: []}\n"
     ]
    }
   ],
   "source": [
    "from queue import Queue\n",
    "graph = {0: [1,3], 1: [0,2,3], 2: [1,4,5], 3: [0,1,4], 4: [2,3,5], 5: [2,4], 6: []}\n",
    "print(\"The adjacent List representing the graph is : \")\n",
    "print(graph)"
   ]
  },
  {
   "cell_type": "code",
   "execution_count": 8,
   "id": "e055a09e-7ebd-4025-b115-45f83ce9af25",
   "metadata": {},
   "outputs": [
    {
     "name": "stdout",
     "output_type": "stream",
     "text": [
      "bfs traversal of graph with source o ia: \n",
      "0-->1-->3-->2-->4-->5-->"
     ]
    }
   ],
   "source": [
    "def bfs(graph,source):\n",
    "    Q=Queue()\n",
    "    visited_vertices=set()\n",
    "    Q.put(source)\n",
    "    visited_vertices.update({0})\n",
    "    while not Q.empty():\n",
    "        vertex=Q.get()\n",
    "        print(vertex,end='-->')\n",
    "        for u in graph[vertex]:\n",
    "            if u not in visited_vertices:\n",
    "                Q.put(u)\n",
    "                visited_vertices.update({u})\n",
    "print(\"bfs traversal of graph with source o ia: \")\n",
    "bfs(graph,0)"
   ]
  },
  {
   "cell_type": "code",
   "execution_count": null,
   "id": "a330990a-efb9-4aab-a9b7-1a45019ae612",
   "metadata": {},
   "outputs": [],
   "source": []
  }
 ],
 "metadata": {
  "kernelspec": {
   "display_name": "Python 3 (ipykernel)",
   "language": "python",
   "name": "python3"
  },
  "language_info": {
   "codemirror_mode": {
    "name": "ipython",
    "version": 3
   },
   "file_extension": ".py",
   "mimetype": "text/x-python",
   "name": "python",
   "nbconvert_exporter": "python",
   "pygments_lexer": "ipython3",
   "version": "3.12.1"
  }
 },
 "nbformat": 4,
 "nbformat_minor": 5
}
